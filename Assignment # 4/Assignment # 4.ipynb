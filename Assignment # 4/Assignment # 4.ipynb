{
 "cells": [
  {
   "cell_type": "code",
   "execution_count": null,
   "id": "0b887250",
   "metadata": {},
   "outputs": [
    {
     "name": "stdout",
     "output_type": "stream",
     "text": [
      "Available Operations:\n",
      "1. Addition\n",
      "2. Subtraction\n",
      "3. Multiplication\n",
      "4. Division\n",
      "5.Power function\n",
      "\n",
      "Select function: a\n"
     ]
    }
   ],
   "source": [
    "\n",
    "print(\"Available Operations:\")\n",
    "print(\"1. Addition\")\n",
    "print(\"2. Subtraction\")\n",
    "print(\"3. Multiplication\")\n",
    "print(\"4. Division\")\n",
    "print(\"5.Power function\\n\")\n",
    "\n",
    "while True:\n",
    "    inp = input(\"Select function: \")\n",
    "# print(switch(inp))\n",
    "\n",
    "\n",
    "# Addition Section\n",
    "    if inp == '1':\n",
    "        print(\"\\nAddition:\")\n",
    "        a = float(input(\"Enter a number (a) = \"))\n",
    "        b = float(input(\"Enter a number (b) = \"))\n",
    "        c = a + b\n",
    "        print(a, \"+\", b, \"=\", c)\n",
    "        print(\"Your Answer is : \",c)\n",
    "\n",
    "    elif inp == '2':\n",
    "        print(\"\\nSubtraction:\")\n",
    "        a = float(input(\"Enter a number (a) = \"))\n",
    "        b = float(input(\"Enter a number (b) = \"))\n",
    "        c = a - b\n",
    "        print(a, \"-\", b, \"=\", c)\n",
    "        print(\"Your Answer is : \",c)\n",
    "    elif inp == '3':\n",
    "        print(\"\\nMultiplication:\")\n",
    "        a = float(input(\"Enter a number (a) = \"))\n",
    "        b = float(input(\"Enter a number (b) = \"))\n",
    "        c = a * b\n",
    "        print(a, \"*\", b, \"=\", c)\n",
    "        print(\"Your Answer is : \", c)\n",
    "    elif inp == '4':\n",
    "        print(\"\\nDivision:\")\n",
    "        a = float(input(\"Enter a number (a) = \"))\n",
    "        b = float(input(\"Enter a number (b) = \"))\n",
    "        c = a / b\n",
    "        print(a, \"/\", b, \"=\", c)\n",
    "        print(\"Your Answer is : \",c)\n",
    "    elif inp == '5':\n",
    "        print(\"\\nPower Function:\")\n",
    "        a = float(input(\"Enter a number (a) = \"))\n",
    "        b = float(input(\"Enter a number (b) = \"))\n",
    "        c = a ** b\n",
    "        print(a, \"**\", b, \"=\", c)\n",
    "        print(\"Your Answer is : \",c)\n",
    "    else:\n",
    "        print(\"Please enter correct Number. \")\n",
    "break\n"
   ]
  },
  {
   "cell_type": "code",
   "execution_count": 4,
   "id": "19ea6b32",
   "metadata": {},
   "outputs": [],
   "source": [
    "def add(a, b):\n",
    "    return a+b\n",
    "\n",
    "def sub(a, b):\n",
    "    return d-e\n",
    "\n",
    "def multi(a, b):\n",
    "    return a*b\n",
    "\n",
    "def divide(a, b):\n",
    "    return a/b\n",
    "\n",
    "def exponent(a, b):\n",
    "    return a**b\n",
    "\n",
    "def default():\n",
    "    return \"Please enter correct number\"\n",
    "\n",
    "switcher = {\n",
    "    1:add,\n",
    "    2:sub,\n",
    "    3:multi,\n",
    "    4:divide,\n",
    "    5:exponent\n",
    "}\n",
    "\n",
    "\n",
    "def switch(Calculator):\n",
    "    return switcher.get(Calculator, default)\n",
    "\n"
   ]
  },
  {
   "cell_type": "code",
   "execution_count": 8,
   "id": "6d2b78ae",
   "metadata": {},
   "outputs": [
    {
     "name": "stdout",
     "output_type": "stream",
     "text": [
      "True\n",
      "False\n",
      "True\n",
      "False\n",
      "False\n",
      "True\n"
     ]
    }
   ],
   "source": [
    "a = [\"1\",\"list\",\"4\",\"list\",\"list\",\"7\"]\n",
    "\n",
    "for x in a:\n",
    "        print(x.isnumeric())"
   ]
  },
  {
   "cell_type": "code",
   "execution_count": 16,
   "id": "0cfe9329",
   "metadata": {},
   "outputs": [
    {
     "name": "stdout",
     "output_type": "stream",
     "text": [
      "Enter your key to add in the dictionary(Numeric only): 5\n",
      "Enter value: Bicycle\n",
      "{1: 'Bike', 2: 'Car', 3: 'Airplane', 4: 'Boat', 5: 'Bicycle'}\n"
     ]
    }
   ],
   "source": [
    "z ={1:'Bike',2:'Car',3:'Airplane',4:'Boat'}\n",
    "\n",
    "pls = int(input(\"Enter your key to add in the dictionary(Numeric only): \"))\n",
    "\n",
    "z[pls] = input(\"Enter value: \")\n",
    "\n",
    "print(z)"
   ]
  },
  {
   "cell_type": "code",
   "execution_count": 33,
   "id": "f8152fd3",
   "metadata": {},
   "outputs": [
    {
     "name": "stdout",
     "output_type": "stream",
     "text": [
      "1279\n"
     ]
    }
   ],
   "source": [
    "x = {\"a\": 21, \"b\": 412, \"c\": 523, \"d\": 323}\n",
    "\n",
    "print(sum(x.values()))"
   ]
  },
  {
   "cell_type": "code",
   "execution_count": 4,
   "id": "8b3f3716",
   "metadata": {},
   "outputs": [
    {
     "ename": "TypeError",
     "evalue": "list indices must be integers or slices, not str",
     "output_type": "error",
     "traceback": [
      "\u001b[1;31m---------------------------------------------------------------------------\u001b[0m",
      "\u001b[1;31mTypeError\u001b[0m                                 Traceback (most recent call last)",
      "\u001b[1;32m<ipython-input-4-67dd230f3370>\u001b[0m in \u001b[0;36m<module>\u001b[1;34m\u001b[0m\n\u001b[0;32m      3\u001b[0m \u001b[1;33m\u001b[0m\u001b[0m\n\u001b[0;32m      4\u001b[0m \u001b[1;32mfor\u001b[0m \u001b[0mi\u001b[0m \u001b[1;32min\u001b[0m \u001b[0maa\u001b[0m\u001b[1;33m:\u001b[0m\u001b[1;33m\u001b[0m\u001b[1;33m\u001b[0m\u001b[0m\n\u001b[1;32m----> 5\u001b[1;33m     \u001b[1;32mif\u001b[0m \u001b[0mlen\u001b[0m\u001b[1;33m(\u001b[0m\u001b[0maa\u001b[0m\u001b[1;33m[\u001b[0m\u001b[0mi\u001b[0m\u001b[1;33m]\u001b[0m\u001b[1;33m)\u001b[0m \u001b[1;33m==\u001b[0m \u001b[0mlen\u001b[0m\u001b[1;33m(\u001b[0m\u001b[0maa\u001b[0m\u001b[1;33m[\u001b[0m\u001b[0mi\u001b[0m\u001b[1;33m]\u001b[0m\u001b[1;33m)\u001b[0m\u001b[1;33m:\u001b[0m\u001b[1;33m\u001b[0m\u001b[1;33m\u001b[0m\u001b[0m\n\u001b[0m\u001b[0;32m      6\u001b[0m         \u001b[0mprint\u001b[0m\u001b[1;33m(\u001b[0m\u001b[0maa\u001b[0m\u001b[1;33m)\u001b[0m\u001b[1;33m\u001b[0m\u001b[1;33m\u001b[0m\u001b[0m\n",
      "\u001b[1;31mTypeError\u001b[0m: list indices must be integers or slices, not str"
     ]
    }
   ],
   "source": [
    "aa = [\"Apple\",\"Banana\",\"Peach\",\"Mango\",\"Apple\",\"Peach\"]\n",
    "\n",
    "\n",
    "for i in aa:\n",
    "    if len(aa[i]) == len(aa[i]):\n",
    "        print(aa)"
   ]
  },
  {
   "cell_type": "code",
   "execution_count": null,
   "id": "85b6c003",
   "metadata": {},
   "outputs": [
    {
     "name": "stdout",
     "output_type": "stream",
     "text": [
      "Enter value : a\n"
     ]
    }
   ],
   "source": [
    "b = []\n",
    "\n",
    "while True:\n",
    "    inp = input(\"Enter value : \")\n",
    "    b.append(inp)\n",
    "    print(b)"
   ]
  }
 ],
 "metadata": {
  "kernelspec": {
   "display_name": "Python 3",
   "language": "python",
   "name": "python3"
  },
  "language_info": {
   "codemirror_mode": {
    "name": "ipython",
    "version": 3
   },
   "file_extension": ".py",
   "mimetype": "text/x-python",
   "name": "python",
   "nbconvert_exporter": "python",
   "pygments_lexer": "ipython3",
   "version": "3.8.8"
  }
 },
 "nbformat": 4,
 "nbformat_minor": 5
}
