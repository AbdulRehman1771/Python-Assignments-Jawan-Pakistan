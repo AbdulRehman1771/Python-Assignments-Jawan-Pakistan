{
 "cells": [
  {
   "cell_type": "code",
   "execution_count": 1,
   "id": "ae9b2570",
   "metadata": {
    "scrolled": true
   },
   "outputs": [
    {
     "name": "stdout",
     "output_type": "stream",
     "text": [
      "Twinkle, twinkle, little star,\n",
      "        How I wonder what you are!\n",
      "                Up above the world so high,\n",
      "                Like a diamond in the sky.\n",
      "Twinkle, twinkle, little star,\n",
      "        How I wonder what you are\n"
     ]
    }
   ],
   "source": [
    "# Object 1: Write a Python program to print the following string in a specific format.\n",
    "\n",
    "print(\"Twinkle, twinkle, little star,\\n        How I wonder what you are!\\n                Up above the world so high,\\n                Like a diamond in the sky.\\nTwinkle, twinkle, little star,\\n        How I wonder what you are\")\n"
   ]
  },
  {
   "cell_type": "code",
   "execution_count": 3,
   "id": "8b78250e",
   "metadata": {},
   "outputs": [
    {
     "name": "stdout",
     "output_type": "stream",
     "text": [
      "Current Python Version is :  3.8.8 (default, Apr 13 2021, 15:08:03) [MSC v.1916 64 bit (AMD64)]\n"
     ]
    }
   ],
   "source": [
    "# Object 2: Write a Python program to get the Python version you are using\n",
    "\n",
    "import sys\n",
    "pyVersion = \"Current Python Version is : \";\n",
    "version = sys.version;\n",
    "\n",
    "print(pyVersion, version)"
   ]
  },
  {
   "cell_type": "code",
   "execution_count": 7,
   "id": "35c0615f",
   "metadata": {},
   "outputs": [
    {
     "name": "stdout",
     "output_type": "stream",
     "text": [
      "Current Date and Time is :  2021-10-21 23:46:09.243266\n"
     ]
    }
   ],
   "source": [
    "# Object 3: Write a Python program to display the current date and time.\n",
    "\n",
    "import datetime\n",
    "current = \"Current Date and Time is : \";\n",
    "\n",
    "print(current, datetime.datetime.now())"
   ]
  },
  {
   "cell_type": "code",
   "execution_count": 12,
   "id": "9d7e86a2",
   "metadata": {},
   "outputs": [
    {
     "name": "stdout",
     "output_type": "stream",
     "text": [
      "Please provide the value of radius to calculate Area.360\n",
      "406944.0\n"
     ]
    }
   ],
   "source": [
    "# Object 4: Write a Python program which accepts the radius of a circle from the user and compute the area.\n",
    "\n",
    "radius = float(input(\"Please provide the value of radius to calculate Area.\"))\n",
    "area = 3.14 * (radius)**2;\n",
    "\n",
    "print(area)"
   ]
  },
  {
   "cell_type": "code",
   "execution_count": 10,
   "id": "66955608",
   "metadata": {},
   "outputs": [
    {
     "name": "stdout",
     "output_type": "stream",
     "text": [
      "Please enter your First Name :Abdul\n",
      "Please enter you Last Name :Rehman\n",
      "namheR ludbA\n"
     ]
    }
   ],
   "source": [
    "# Object 5: Write a Python program which accepts the user's first and last name and print them in reverse order with a space between them.\n",
    "\n",
    "fName = str(input(\"Please enter your First Name :\"));\n",
    "lName = str(input(\"Please enter you Last Name :\"));\n",
    "fullName = fName+\" \"+lName;\n",
    "\n",
    "print(fullName  [::-1])"
   ]
  },
  {
   "cell_type": "code",
   "execution_count": 11,
   "id": "0eae5761",
   "metadata": {},
   "outputs": [
    {
     "name": "stdout",
     "output_type": "stream",
     "text": [
      "Please enter something.Hello\n",
      "Please enter else more.World\n",
      "HelloWorld\n"
     ]
    }
   ],
   "source": [
    "# Object 6: Write a python program which takes two inputs from user and print them addition\n",
    "\n",
    "option1 = str(input(\"Please enter something.\"));\n",
    "option2 = str(input(\"Please enter else more.\"));\n",
    "\n",
    "conc = option1 + option2;\n",
    "\n",
    "print(conc)"
   ]
  },
  {
   "cell_type": "code",
   "execution_count": 12,
   "id": "89c4f245",
   "metadata": {},
   "outputs": [
    {
     "name": "stdout",
     "output_type": "stream",
     "text": [
      "Please enter Your English Marks : 90\n",
      "Please enter Your English Marks : 80\n",
      "Please enter Your English Marks : 89\n",
      "Please enter Your English Marks : 98\n",
      "Please enter Your English Marks : 98\n",
      "\n",
      " Your Percentage is :  91.0\n",
      "\n",
      " Cogratulations! You have got Grade \"A+\".\n"
     ]
    }
   ],
   "source": [
    "# Object 7: Write a program which takes 5 inputs from user for different subject’s marks, total it and generate mark sheet using grades?\n",
    "\n",
    "marksOfEnglish = int(input(\"Please enter Your English Marks : \"));\n",
    "marksOfMaths = int(input(\"Please enter Your English Marks : \"));\n",
    "marksOfIslamiat = int(input(\"Please enter Your English Marks : \"));\n",
    "marksOfUrdu = int(input(\"Please enter Your English Marks : \"));\n",
    "marksOfScience = int(input(\"Please enter Your English Marks : \"));\n",
    "totalMarks = 500;\n",
    "\n",
    "percentage = (marksOfEnglish + marksOfIslamiat + marksOfMaths + marksOfScience + marksOfUrdu)/totalMarks*100;\n",
    "print(\"\\n Your Percentage is : \", percentage)\n",
    "\n",
    "if percentage == 100:\n",
    "    print(\"\\n Brilliant! You are a toper.\")\n",
    "elif percentage < 100 and percentage >= 80:\n",
    "    print('\\n Cogratulations! You have got Grade \"A+\".')\n",
    "elif percentage < 80 and percentage >= 70:\n",
    "    print('\\n Great! YOu have got Grade \"A\".')\n",
    "elif percentage < 70 and percentage >= 60:\n",
    "    print('\\n Good! You have got Grade \"B\".')\n",
    "elif percentage < 60 and percentage >= 50:\n",
    "    print('\\n You got Grade \"C\".')\n",
    "elif percentage < 50 and percentage >= 40:\n",
    "    print('\\n Improve! You have got Grade \"D\".')\n",
    "elif percentage < 40 and percentage >= 33:\n",
    "    print('\\n Bad! You are near to fail, got Grade \"E\".')\n",
    "elif percentage < 33:\n",
    "    print(\"\\n You are fail!\")\n",
    "elif percentage < 0 or percentage > 100:\n",
    "    print(\"\\n Please enter correct marks.\")\n",
    "else: print(\"\\n please enter correct marks.\")"
   ]
  },
  {
   "cell_type": "code",
   "execution_count": 15,
   "id": "4086a6da",
   "metadata": {},
   "outputs": [
    {
     "name": "stdout",
     "output_type": "stream",
     "text": [
      "Enter your number : 3236345435\n",
      "Your entered Number is odd.\n"
     ]
    }
   ],
   "source": [
    "# Object 8: Write a program which take input from user and identify that the given number is even or odd?\n",
    "\n",
    "number = int(input(\"Enter your number : \"))%2;\n",
    "\n",
    "if number == 0:\n",
    "    print(\"Your entered Number is even.\")\n",
    "else: print(\"Your entered Number is odd.\")"
   ]
  },
  {
   "cell_type": "code",
   "execution_count": 19,
   "id": "fe0d3865",
   "metadata": {},
   "outputs": [
    {
     "name": "stdout",
     "output_type": "stream",
     "text": [
      "Number of elements in the list :  5\n"
     ]
    }
   ],
   "source": [
    "# Object 9: Write a program which print the length of the list?\n",
    "\n",
    "newList = [1, \"My Name\", True, 31, 4.21,];\n",
    "length = len(newList);\n",
    "\n",
    "print(\"Number of elements in the list : \", length)"
   ]
  },
  {
   "cell_type": "code",
   "execution_count": 23,
   "id": "0341bb0b",
   "metadata": {},
   "outputs": [
    {
     "name": "stdout",
     "output_type": "stream",
     "text": [
      "The sum of this numeric list is :  980\n"
     ]
    }
   ],
   "source": [
    "# Object 10: Write a Python program to sum all the numeric items in a list?\n",
    "\n",
    "thisList = [121,4,1,52,6,21,634,141];\n",
    "sumList = sum(thisList);\n",
    "\n",
    "print(\"The sum of this numeric list is : \", sumList)"
   ]
  },
  {
   "cell_type": "code",
   "execution_count": 21,
   "id": "e91ca7d1",
   "metadata": {},
   "outputs": [
    {
     "name": "stdout",
     "output_type": "stream",
     "text": [
      "The largest number in the list is :  3456\n"
     ]
    }
   ],
   "source": [
    "# Object 11: Write a Python program to get the largest number from a numeric list.\n",
    "\n",
    "aList = [1, 3, 7, 3456, 534];\n",
    "largest_number = max(aList)\n",
    "\n",
    "print(\"The largest number in the list is : \", largest_number)"
   ]
  },
  {
   "cell_type": "code",
   "execution_count": 20,
   "id": "a2b1a196",
   "metadata": {},
   "outputs": [
    {
     "name": "stdout",
     "output_type": "stream",
     "text": [
      "[1, 1, 2, 3]\n",
      "1\n",
      "1\n",
      "2\n",
      "3\n"
     ]
    }
   ],
   "source": [
    "# Object 12: Take a list, say for example this one:\n",
    "'''\n",
    "a = [1, 1, 2, 3, 5, 8, 13, 21, 34, 55, 89]\n",
    "Write a program that prints out all the elements of the list that are less than 5.\n",
    "'''\n",
    "\n",
    "a = [1, 1, 2, 3, 5, 8, 13, 21, 34, 55, 89];\n",
    "\n",
    "# 1st method:\n",
    "b = [c for c in a if c < 5];\n",
    "\n",
    "print(b)\n",
    "\n",
    "# 2nd method:\n",
    "for x in a:\n",
    "    if x < 5:\n",
    "        print(x)"
   ]
  },
  {
   "cell_type": "code",
   "execution_count": null,
   "id": "fb0ffbb4",
   "metadata": {},
   "outputs": [],
   "source": []
  }
 ],
 "metadata": {
  "kernelspec": {
   "display_name": "Python 3",
   "language": "python",
   "name": "python3"
  },
  "language_info": {
   "codemirror_mode": {
    "name": "ipython",
    "version": 3
   },
   "file_extension": ".py",
   "mimetype": "text/x-python",
   "name": "python",
   "nbconvert_exporter": "python",
   "pygments_lexer": "ipython3",
   "version": "3.8.8"
  }
 },
 "nbformat": 4,
 "nbformat_minor": 5
}
